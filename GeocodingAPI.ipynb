{
 "cells": [
  {
   "cell_type": "code",
   "execution_count": null,
   "metadata": {},
   "outputs": [],
   "source": []
  },
  {
   "cell_type": "code",
   "execution_count": 16,
   "metadata": {},
   "outputs": [
    {
     "name": "stdout",
     "output_type": "stream",
     "text": [
      "\n",
      "Type any address to search or Enter 'quit' to quit \n",
      "Enter location: New York\n",
      "*******************************************\n",
      "lattitude : 40.7127753 , longitude : -74.0059728\n",
      "Location : New York, NY, USA\n",
      "*******************************************\n",
      "\n",
      "Type any address to search or Enter 'quit' to quit \n",
      "Enter location: quit\n",
      "\n",
      "Thank you\n"
     ]
    }
   ],
   "source": [
    "import urllib.request, urllib.parse, urllib.error\n",
    "import ssl\n",
    "import json\n",
    "\n",
    "api_key = 'AIzaSyC2----3PIVe2PVzBSuvk'  # enter your API key here\n",
    "\n",
    "# you can get the api key from Google Cloud Platform and also enable Geolocation and Geocoding enabled \n",
    "\n",
    "# https://developers.google.com/maps/documentation/geocoding/intro\n",
    "\n",
    "if api_key is False:\n",
    "    print(\"Given API KEY is incorrect\")\n",
    "else :\n",
    "    serviceurl = 'https://maps.googleapis.com/maps/api/geocode/json?'\n",
    "    \n",
    "\n",
    "    \n",
    "# Ignore SSL certificate errors\n",
    "ctx = ssl.create_default_context()\n",
    "ctx.check_hostname = False\n",
    "ctx.verify_mode = ssl.CERT_NONE\n",
    "\n",
    "i = True\n",
    "\n",
    "while i:\n",
    "    \n",
    "    print(\"\\nType any address to search or Enter 'quit' to quit \")\n",
    "    address = input('Enter location: ')# enter a location to find lan,log.\n",
    "    \n",
    "    if address.lower() == 'quit' or len(address) < 1:\n",
    "        print(\"\\nThank you\")\n",
    "        i = False\n",
    "        break\n",
    "        \n",
    "\n",
    "    parms = dict()\n",
    "    parms['address'] = address\n",
    "    if api_key is not False: \n",
    "        parms['key'] = api_key\n",
    "        url = serviceurl + urllib.parse.urlencode(parms)\n",
    "        #print('Retrieving', url)  # to view the parsed url with api key and address\n",
    "    uh = urllib.request.urlopen(url, context=ctx)\n",
    "\n",
    "    data = uh.read().decode()\n",
    "    #print('Retrieved', len(data), 'characters')\n",
    "    #print(data)   # to view actual decoded json file \n",
    "    \n",
    "    tree = json.loads(data)\n",
    "\n",
    " \n",
    "    \n",
    "    lat = tree['results'][0]['geometry']['location']['lat']\n",
    "    lng = tree['results'][0]['geometry']['location']['lng']\n",
    "    location = tree['results'][0]['formatted_address']\n",
    "    \n",
    "    \n",
    "    print(\"*******************************************\")\n",
    "    print('lattitude :', lat,',' ,'longitude :', lng)\n",
    "    print(\"Location :\",location)\n",
    "    print(\"*******************************************\")"
   ]
  },
  {
   "cell_type": "code",
   "execution_count": null,
   "metadata": {},
   "outputs": [],
   "source": []
  }
 ],
 "metadata": {
  "kernelspec": {
   "display_name": "Python 3",
   "language": "python",
   "name": "python3"
  },
  "language_info": {
   "codemirror_mode": {
    "name": "ipython",
    "version": 3
   },
   "file_extension": ".py",
   "mimetype": "text/x-python",
   "name": "python",
   "nbconvert_exporter": "python",
   "pygments_lexer": "ipython3",
   "version": "3.7.4"
  }
 },
 "nbformat": 4,
 "nbformat_minor": 2
}
